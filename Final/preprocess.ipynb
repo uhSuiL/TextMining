{
 "cells": [
  {
   "cell_type": "code",
   "execution_count": 1,
   "id": "initial_id",
   "metadata": {
    "collapsed": true,
    "ExecuteTime": {
     "end_time": "2023-12-23T14:14:51.548013600Z",
     "start_time": "2023-12-23T14:14:50.623741600Z"
    }
   },
   "outputs": [],
   "source": [
    "import numpy as np\n",
    "import emoji\n",
    "import nltk\n",
    "import pandas as pd\n",
    "import matplotlib.pyplot as plt\n",
    "from scipy.special import kl_div\n",
    "from nltk.sentiment import SentimentIntensityAnalyzer\n",
    "from data import source_wsl, output\n",
    "from util import text, null\n",
    "from util import Pipeline\n",
    "from concurrent.futures import ProcessPoolExecutor\n",
    "\n",
    "\n",
    "sia = SentimentIntensityAnalyzer()\n",
    "\n",
    "def token_to_sentiment(row):\n",
    "    text_ = \" \".join(row)\n",
    "    return pd.Series(sia.polarity_scores(text_))\n"
   ]
  },
  {
   "cell_type": "code",
   "execution_count": 2,
   "outputs": [
    {
     "data": {
      "text/plain": "       count  hate_speech_count  offensive_language_count  neither_count  \\\n0          3                  0                         0              3   \n1          3                  0                         3              0   \n2          3                  0                         3              0   \n3          3                  0                         2              1   \n4          6                  0                         6              0   \n...      ...                ...                       ...            ...   \n24778      3                  0                         2              1   \n24779      3                  0                         1              2   \n24780      3                  0                         3              0   \n24781      6                  0                         6              0   \n24782      3                  0                         0              3   \n\n       class                                              tweet  \n0          2  !!! RT @mayasolovely: As a woman you shouldn't...  \n1          1  !!!!! RT @mleew17: boy dats cold...tyga dwn ba...  \n2          1  !!!!!!! RT @UrKindOfBrand Dawg!!!! RT @80sbaby...  \n3          1  !!!!!!!!! RT @C_G_Anderson: @viva_based she lo...  \n4          1  !!!!!!!!!!!!! RT @ShenikaRoberts: The shit you...  \n...      ...                                                ...  \n24778      1  you's a muthaf***in lie &#8220;@LifeAsKing: @2...  \n24779      2  you've gone and broke the wrong heart baby, an...  \n24780      1  young buck wanna eat!!.. dat nigguh like I ain...  \n24781      1              youu got wild bitches tellin you lies  \n24782      2  ~~Ruffled | Ntac Eileen Dahlia - Beautiful col...  \n\n[24783 rows x 6 columns]",
      "text/html": "<div>\n<style scoped>\n    .dataframe tbody tr th:only-of-type {\n        vertical-align: middle;\n    }\n\n    .dataframe tbody tr th {\n        vertical-align: top;\n    }\n\n    .dataframe thead th {\n        text-align: right;\n    }\n</style>\n<table border=\"1\" class=\"dataframe\">\n  <thead>\n    <tr style=\"text-align: right;\">\n      <th></th>\n      <th>count</th>\n      <th>hate_speech_count</th>\n      <th>offensive_language_count</th>\n      <th>neither_count</th>\n      <th>class</th>\n      <th>tweet</th>\n    </tr>\n  </thead>\n  <tbody>\n    <tr>\n      <th>0</th>\n      <td>3</td>\n      <td>0</td>\n      <td>0</td>\n      <td>3</td>\n      <td>2</td>\n      <td>!!! RT @mayasolovely: As a woman you shouldn't...</td>\n    </tr>\n    <tr>\n      <th>1</th>\n      <td>3</td>\n      <td>0</td>\n      <td>3</td>\n      <td>0</td>\n      <td>1</td>\n      <td>!!!!! RT @mleew17: boy dats cold...tyga dwn ba...</td>\n    </tr>\n    <tr>\n      <th>2</th>\n      <td>3</td>\n      <td>0</td>\n      <td>3</td>\n      <td>0</td>\n      <td>1</td>\n      <td>!!!!!!! RT @UrKindOfBrand Dawg!!!! RT @80sbaby...</td>\n    </tr>\n    <tr>\n      <th>3</th>\n      <td>3</td>\n      <td>0</td>\n      <td>2</td>\n      <td>1</td>\n      <td>1</td>\n      <td>!!!!!!!!! RT @C_G_Anderson: @viva_based she lo...</td>\n    </tr>\n    <tr>\n      <th>4</th>\n      <td>6</td>\n      <td>0</td>\n      <td>6</td>\n      <td>0</td>\n      <td>1</td>\n      <td>!!!!!!!!!!!!! RT @ShenikaRoberts: The shit you...</td>\n    </tr>\n    <tr>\n      <th>...</th>\n      <td>...</td>\n      <td>...</td>\n      <td>...</td>\n      <td>...</td>\n      <td>...</td>\n      <td>...</td>\n    </tr>\n    <tr>\n      <th>24778</th>\n      <td>3</td>\n      <td>0</td>\n      <td>2</td>\n      <td>1</td>\n      <td>1</td>\n      <td>you's a muthaf***in lie &amp;#8220;@LifeAsKing: @2...</td>\n    </tr>\n    <tr>\n      <th>24779</th>\n      <td>3</td>\n      <td>0</td>\n      <td>1</td>\n      <td>2</td>\n      <td>2</td>\n      <td>you've gone and broke the wrong heart baby, an...</td>\n    </tr>\n    <tr>\n      <th>24780</th>\n      <td>3</td>\n      <td>0</td>\n      <td>3</td>\n      <td>0</td>\n      <td>1</td>\n      <td>young buck wanna eat!!.. dat nigguh like I ain...</td>\n    </tr>\n    <tr>\n      <th>24781</th>\n      <td>6</td>\n      <td>0</td>\n      <td>6</td>\n      <td>0</td>\n      <td>1</td>\n      <td>youu got wild bitches tellin you lies</td>\n    </tr>\n    <tr>\n      <th>24782</th>\n      <td>3</td>\n      <td>0</td>\n      <td>0</td>\n      <td>3</td>\n      <td>2</td>\n      <td>~~Ruffled | Ntac Eileen Dahlia - Beautiful col...</td>\n    </tr>\n  </tbody>\n</table>\n<p>24783 rows × 6 columns</p>\n</div>"
     },
     "execution_count": 2,
     "metadata": {},
     "output_type": "execute_result"
    }
   ],
   "source": [
    "data = pd.read_csv(source_wsl)\n",
    "data"
   ],
   "metadata": {
    "collapsed": false,
    "ExecuteTime": {
     "end_time": "2023-12-23T14:14:51.593237100Z",
     "start_time": "2023-12-23T14:14:51.551017100Z"
    }
   },
   "id": "5cd15ac7151b347c"
  },
  {
   "cell_type": "code",
   "execution_count": 3,
   "outputs": [],
   "source": [
    "text_preprocess = {\n",
    "\t'replace emoji': [text.replace_emoji, null],\n",
    "\t'remove retweet symbol': [text.remove_retweet],\n",
    "\t'remove url': [(text.remove_pattern, text.PATTERN['url'])],\n",
    "\t'remove punctuation': [(text.remove_pattern, text.PATTERN['slight punc']), null, (text.remove_pattern, text.PATTERN['punc'])],  # ATTENTION: it will remove @ #\n",
    "\t'to lower': [str.lower, null],\n",
    "\t'remove _': [(text.replace_pattern, r'_', ' ')],\n",
    "\t'tokenize': [nltk.tokenize.word_tokenize],\n",
    "\t'lemmatize': [text.lemmatize, null],\n",
    "\t'remove stopwords': [(text.remove_stopwords, text.STOP_WORDS + ['amp'])],\n",
    "}  # input original text\n",
    "\n",
    "pipelines = Pipeline.from_config(text_preprocess)"
   ],
   "metadata": {
    "collapsed": false,
    "ExecuteTime": {
     "end_time": "2023-12-23T14:14:51.594237600Z",
     "start_time": "2023-12-23T14:14:51.592232600Z"
    }
   },
   "id": "8946cf222c588135"
  },
  {
   "cell_type": "code",
   "execution_count": 4,
   "outputs": [],
   "source": [
    "def process(tweets: pd.Series, pipeline):\n",
    "\treturn pd.Series([pipeline(tweet) for tweet in tweets.to_numpy()])\n",
    "\t\t\n",
    "pool = ProcessPoolExecutor()\t\t\n",
    "tweets = data['tweet']\n",
    "futures = [pool.submit(process, tweets, pipeline) for pipeline in pipelines]\n",
    "processed_texts = [pd.Series(future.result()) for future in futures]\n",
    "# processed_texts = [future.result() for future in futures]\n",
    "pool.shutdown()"
   ],
   "metadata": {
    "collapsed": false,
    "ExecuteTime": {
     "end_time": "2023-12-23T14:16:56.879338100Z",
     "start_time": "2023-12-23T14:14:51.597238500Z"
    }
   },
   "id": "5aed6f3e6a471a1a"
  },
  {
   "cell_type": "code",
   "execution_count": 5,
   "outputs": [
    {
     "data": {
      "text/plain": "0        [!, !, !, mayasolovely, woman, n't, complain, ...\n1        [!, !, !, !, !, mleew17, boy, coldtyga, dwn, c...\n2        [!, !, !, !, !, !, !, urkindofbrand, dawg, !, ...\n3        [!, !, !, !, !, !, !, !, !, g, anderson, viva,...\n4        [!, !, !, !, !, !, !, !, !, !, !, !, !, shenik...\n                               ...                        \n24778    ['s, muthafin, lie, lifeasking, 20, pearl, cor...\n24779    ['ve, broke, wrong, heart, baby, drove, rednec...\n24780    [young, buck, wan, eat, !, !, nigguh, fuckin, ...\n24781                     [youu, wild, bitch, tellin, lie]\n24782    [ruffled, ntac, eileen, dahlia, beautiful, col...\nLength: 24783, dtype: object"
     },
     "execution_count": 5,
     "metadata": {},
     "output_type": "execute_result"
    }
   ],
   "source": [
    "processed_texts[0]"
   ],
   "metadata": {
    "collapsed": false,
    "ExecuteTime": {
     "end_time": "2023-12-23T14:16:56.924447300Z",
     "start_time": "2023-12-23T14:16:56.885337100Z"
    }
   },
   "id": "c0e0eaa2879a2fcb"
  },
  {
   "cell_type": "code",
   "execution_count": 6,
   "outputs": [],
   "source": [
    "sentiment_scores = [texts.apply(token_to_sentiment) for texts in processed_texts]"
   ],
   "metadata": {
    "collapsed": false,
    "ExecuteTime": {
     "end_time": "2023-12-23T14:18:31.135877500Z",
     "start_time": "2023-12-23T14:16:56.917444400Z"
    }
   },
   "id": "c4638f02dabdac2b"
  },
  {
   "cell_type": "code",
   "execution_count": 7,
   "outputs": [
    {
     "data": {
      "text/plain": "         neg    neu    pos  compound\n0      0.000  0.668  0.332    0.4563\n1      0.000  1.000  0.000    0.0000\n2      0.814  0.186  0.000   -0.9550\n3      0.000  1.000  0.000    0.0000\n4      0.682  0.318  0.000   -0.8614\n...      ...    ...    ...       ...\n24778  0.000  1.000  0.000    0.0000\n24779  0.624  0.376  0.000   -0.8074\n24780  0.000  1.000  0.000    0.0000\n24781  0.487  0.513  0.000   -0.5859\n24782  0.000  0.738  0.262    0.5994\n\n[24783 rows x 4 columns]",
      "text/html": "<div>\n<style scoped>\n    .dataframe tbody tr th:only-of-type {\n        vertical-align: middle;\n    }\n\n    .dataframe tbody tr th {\n        vertical-align: top;\n    }\n\n    .dataframe thead th {\n        text-align: right;\n    }\n</style>\n<table border=\"1\" class=\"dataframe\">\n  <thead>\n    <tr style=\"text-align: right;\">\n      <th></th>\n      <th>neg</th>\n      <th>neu</th>\n      <th>pos</th>\n      <th>compound</th>\n    </tr>\n  </thead>\n  <tbody>\n    <tr>\n      <th>0</th>\n      <td>0.000</td>\n      <td>0.668</td>\n      <td>0.332</td>\n      <td>0.4563</td>\n    </tr>\n    <tr>\n      <th>1</th>\n      <td>0.000</td>\n      <td>1.000</td>\n      <td>0.000</td>\n      <td>0.0000</td>\n    </tr>\n    <tr>\n      <th>2</th>\n      <td>0.814</td>\n      <td>0.186</td>\n      <td>0.000</td>\n      <td>-0.9550</td>\n    </tr>\n    <tr>\n      <th>3</th>\n      <td>0.000</td>\n      <td>1.000</td>\n      <td>0.000</td>\n      <td>0.0000</td>\n    </tr>\n    <tr>\n      <th>4</th>\n      <td>0.682</td>\n      <td>0.318</td>\n      <td>0.000</td>\n      <td>-0.8614</td>\n    </tr>\n    <tr>\n      <th>...</th>\n      <td>...</td>\n      <td>...</td>\n      <td>...</td>\n      <td>...</td>\n    </tr>\n    <tr>\n      <th>24778</th>\n      <td>0.000</td>\n      <td>1.000</td>\n      <td>0.000</td>\n      <td>0.0000</td>\n    </tr>\n    <tr>\n      <th>24779</th>\n      <td>0.624</td>\n      <td>0.376</td>\n      <td>0.000</td>\n      <td>-0.8074</td>\n    </tr>\n    <tr>\n      <th>24780</th>\n      <td>0.000</td>\n      <td>1.000</td>\n      <td>0.000</td>\n      <td>0.0000</td>\n    </tr>\n    <tr>\n      <th>24781</th>\n      <td>0.487</td>\n      <td>0.513</td>\n      <td>0.000</td>\n      <td>-0.5859</td>\n    </tr>\n    <tr>\n      <th>24782</th>\n      <td>0.000</td>\n      <td>0.738</td>\n      <td>0.262</td>\n      <td>0.5994</td>\n    </tr>\n  </tbody>\n</table>\n<p>24783 rows × 4 columns</p>\n</div>"
     },
     "execution_count": 7,
     "metadata": {},
     "output_type": "execute_result"
    }
   ],
   "source": [
    "sentiment_scores[0]"
   ],
   "metadata": {
    "collapsed": false,
    "ExecuteTime": {
     "end_time": "2023-12-23T14:18:31.146854600Z",
     "start_time": "2023-12-23T14:18:31.140879600Z"
    }
   },
   "id": "39f88d8fff138b2f"
  },
  {
   "cell_type": "code",
   "execution_count": 8,
   "outputs": [
    {
     "data": {
      "text/plain": "0       -1\n1       -1\n2       -1\n3       -1\n4       -1\n        ..\n24778   -1\n24779   -1\n24780   -1\n24781   -1\n24782   -1\nName: class, Length: 24783, dtype: int64"
     },
     "execution_count": 8,
     "metadata": {},
     "output_type": "execute_result"
    }
   ],
   "source": [
    "polar = data['class'].map({2: -1, 1: -1, 0: 1})\n",
    "polar"
   ],
   "metadata": {
    "collapsed": false,
    "ExecuteTime": {
     "end_time": "2023-12-23T14:18:31.156367200Z",
     "start_time": "2023-12-23T14:18:31.148854800Z"
    }
   },
   "id": "bc11d4e236362295"
  },
  {
   "cell_type": "code",
   "execution_count": 9,
   "outputs": [
    {
     "data": {
      "text/plain": "(0.2562251320912583, 0.24319356907663586)"
     },
     "execution_count": 9,
     "metadata": {},
     "output_type": "execute_result"
    }
   ],
   "source": [
    "kl_div(polar+2, sentiment_scores[0]['compound']+2).mean(), kl_div(polar+2, sentiment_scores[1]['compound']+2).mean()"
   ],
   "metadata": {
    "collapsed": false,
    "ExecuteTime": {
     "end_time": "2023-12-23T14:18:31.166366400Z",
     "start_time": "2023-12-23T14:18:31.157366Z"
    }
   },
   "id": "fee1c3c23b97e36b"
  },
  {
   "cell_type": "code",
   "execution_count": 10,
   "outputs": [
    {
     "data": {
      "text/plain": "[0.2562251320912583,\n 0.24319356907663586,\n 0.2559506717562535,\n 0.24335733119417302,\n 0.25599556050788785,\n 0.24297274775417357,\n 0.2556591533593347,\n 0.24312840577808123,\n 0.24601616731121673,\n 0.23235004828186256,\n 0.2458092165932067,\n 0.2326235868789982,\n 0.23153067477510195,\n 0.22516347039204979,\n 0.23128470935999002,\n 0.22534475520230624,\n 0.23069014499956472,\n 0.2243182494339855,\n 0.23038451918199998,\n 0.2245010694336899,\n 0.22044052640161224,\n 0.2140218213818579,\n 0.22029955150340466,\n 0.21432034140846215]"
     },
     "execution_count": 10,
     "metadata": {},
     "output_type": "execute_result"
    }
   ],
   "source": [
    "kl = [kl_div(polar+2, sentiment_score['compound']+2).mean() for sentiment_score in sentiment_scores]\n",
    "kl"
   ],
   "metadata": {
    "collapsed": false,
    "ExecuteTime": {
     "end_time": "2023-12-23T14:18:31.275636600Z",
     "start_time": "2023-12-23T14:18:31.177882500Z"
    }
   },
   "id": "ad9e689478bf730a"
  },
  {
   "cell_type": "code",
   "execution_count": 11,
   "outputs": [
    {
     "data": {
      "text/plain": "<Figure size 1200x500 with 1 Axes>",
      "image/png": "[encoded data removed]"
     },
     "metadata": {},
     "output_type": "display_data"
    }
   ],
   "source": [
    "title = \"KL Divergence of Different Preprocessing Strategies\"\n",
    "plt.figure(figsize=(12, 5))\n",
    "plt.title(title)\n",
    "plt.ylabel(\"kl div\")\n",
    "plt.xlabel(\"preprocessing strategies\")\n",
    "plt.xticks(ticks=range(len(kl)), labels=range(1, 1+len(kl)))\n",
    "plt.scatter(range(len(kl)), kl)\n",
    "plt.savefig(output + f'/img/{title}.svg')"
   ],
   "metadata": {
    "collapsed": false,
    "ExecuteTime": {
     "end_time": "2023-12-23T14:18:31.419282100Z",
     "start_time": "2023-12-23T14:18:31.179920200Z"
    }
   },
   "id": "f05a9781bcf383dd"
  },
  {
   "cell_type": "code",
   "execution_count": 12,
   "outputs": [
    {
     "data": {
      "text/plain": "'[^\\\\w\\\\s]'"
     },
     "execution_count": 12,
     "metadata": {},
     "output_type": "execute_result"
    }
   ],
   "source": [
    "text.PATTERN['punc']"
   ],
   "metadata": {
    "collapsed": false,
    "ExecuteTime": {
     "end_time": "2023-12-23T14:18:31.499500600Z",
     "start_time": "2023-12-23T14:18:31.422281900Z"
    }
   },
   "id": "ae6e960f884d0c6e"
  },
  {
   "cell_type": "code",
   "execution_count": 14,
   "outputs": [],
   "source": [
    "from util import text\n",
    "text.STOP_WORDS.remove('not')"
   ],
   "metadata": {
    "collapsed": false,
    "ExecuteTime": {
     "end_time": "2023-12-24T05:36:06.699004500Z",
     "start_time": "2023-12-24T05:36:06.689454600Z"
    }
   },
   "id": "9cb56f5cc5f716fa"
  },
  {
   "cell_type": "markdown",
   "source": [
    "# 结论\n",
    "\n",
    "使用全策略\n",
    "（要删除标点，但标点在该场景下的确携带丰富信息--单独抽取特征）\n",
    "（要替换emoji，emoji对于kl散度有一定的提升）"
   ],
   "metadata": {
    "collapsed": false
   },
   "id": "eca09011445600f2"
  },
  {
   "cell_type": "markdown",
   "source": [],
   "metadata": {
    "collapsed": false
   },
   "id": "dee22e54eb66b432"
  }
 ],
 "metadata": {
  "kernelspec": {
   "display_name": "Python 3",
   "language": "python",
   "name": "python3"
  },
  "language_info": {
   "codemirror_mode": {
    "name": "ipython",
    "version": 2
   },
   "file_extension": ".py",
   "mimetype": "text/x-python",
   "name": "python",
   "nbconvert_exporter": "python",
   "pygments_lexer": "ipython2",
   "version": "2.7.6"
  }
 },
 "nbformat": 4,
 "nbformat_minor": 5
}
