{
 "cells": [
  {
   "cell_type": "code",
   "execution_count": 1,
   "id": "initial_id",
   "metadata": {
    "collapsed": true,
    "ExecuteTime": {
     "end_time": "2023-12-22T13:48:30.821533400Z",
     "start_time": "2023-12-22T13:48:29.943427300Z"
    }
   },
   "outputs": [],
   "source": [
    "import numpy as np\n",
    "import emoji\n",
    "import nltk\n",
    "import pandas as pd\n",
    "import matplotlib.pyplot as plt\n",
    "from scipy.special import kl_div\n",
    "from nltk.sentiment import SentimentIntensityAnalyzer\n",
    "from data import source_wsl, output\n",
    "from util import text, null\n",
    "from util import Pipeline\n",
    "from concurrent.futures import ProcessPoolExecutor\n",
    "\n",
    "\n",
    "sia = SentimentIntensityAnalyzer()\n",
    "\n",
    "def token_to_sentiment(row):\n",
    "    text_ = \" \".join(row)\n",
    "    return pd.Series(sia.polarity_scores(text_))\n"
   ]
  },
  {
   "cell_type": "code",
   "execution_count": 2,
   "outputs": [
    {
     "data": {
      "text/plain": "       count  hate_speech_count  offensive_language_count  neither_count  \\\n0          3                  0                         0              3   \n1          3                  0                         3              0   \n2          3                  0                         3              0   \n3          3                  0                         2              1   \n4          6                  0                         6              0   \n...      ...                ...                       ...            ...   \n24778      3                  0                         2              1   \n24779      3                  0                         1              2   \n24780      3                  0                         3              0   \n24781      6                  0                         6              0   \n24782      3                  0                         0              3   \n\n       class                                              tweet  \n0          2  !!! RT @mayasolovely: As a woman you shouldn't...  \n1          1  !!!!! RT @mleew17: boy dats cold...tyga dwn ba...  \n2          1  !!!!!!! RT @UrKindOfBrand Dawg!!!! RT @80sbaby...  \n3          1  !!!!!!!!! RT @C_G_Anderson: @viva_based she lo...  \n4          1  !!!!!!!!!!!!! RT @ShenikaRoberts: The shit you...  \n...      ...                                                ...  \n24778      1  you's a muthaf***in lie &#8220;@LifeAsKing: @2...  \n24779      2  you've gone and broke the wrong heart baby, an...  \n24780      1  young buck wanna eat!!.. dat nigguh like I ain...  \n24781      1              youu got wild bitches tellin you lies  \n24782      2  ~~Ruffled | Ntac Eileen Dahlia - Beautiful col...  \n\n[24783 rows x 6 columns]",
      "text/html": "<div>\n<style scoped>\n    .dataframe tbody tr th:only-of-type {\n        vertical-align: middle;\n    }\n\n    .dataframe tbody tr th {\n        vertical-align: top;\n    }\n\n    .dataframe thead th {\n        text-align: right;\n    }\n</style>\n<table border=\"1\" class=\"dataframe\">\n  <thead>\n    <tr style=\"text-align: right;\">\n      <th></th>\n      <th>count</th>\n      <th>hate_speech_count</th>\n      <th>offensive_language_count</th>\n      <th>neither_count</th>\n      <th>class</th>\n      <th>tweet</th>\n    </tr>\n  </thead>\n  <tbody>\n    <tr>\n      <th>0</th>\n      <td>3</td>\n      <td>0</td>\n      <td>0</td>\n      <td>3</td>\n      <td>2</td>\n      <td>!!! RT @mayasolovely: As a woman you shouldn't...</td>\n    </tr>\n    <tr>\n      <th>1</th>\n      <td>3</td>\n      <td>0</td>\n      <td>3</td>\n      <td>0</td>\n      <td>1</td>\n      <td>!!!!! RT @mleew17: boy dats cold...tyga dwn ba...</td>\n    </tr>\n    <tr>\n      <th>2</th>\n      <td>3</td>\n      <td>0</td>\n      <td>3</td>\n      <td>0</td>\n      <td>1</td>\n      <td>!!!!!!! RT @UrKindOfBrand Dawg!!!! RT @80sbaby...</td>\n    </tr>\n    <tr>\n      <th>3</th>\n      <td>3</td>\n      <td>0</td>\n      <td>2</td>\n      <td>1</td>\n      <td>1</td>\n      <td>!!!!!!!!! RT @C_G_Anderson: @viva_based she lo...</td>\n    </tr>\n    <tr>\n      <th>4</th>\n      <td>6</td>\n      <td>0</td>\n      <td>6</td>\n      <td>0</td>\n      <td>1</td>\n      <td>!!!!!!!!!!!!! RT @ShenikaRoberts: The shit you...</td>\n    </tr>\n    <tr>\n      <th>...</th>\n      <td>...</td>\n      <td>...</td>\n      <td>...</td>\n      <td>...</td>\n      <td>...</td>\n      <td>...</td>\n    </tr>\n    <tr>\n      <th>24778</th>\n      <td>3</td>\n      <td>0</td>\n      <td>2</td>\n      <td>1</td>\n      <td>1</td>\n      <td>you's a muthaf***in lie &amp;#8220;@LifeAsKing: @2...</td>\n    </tr>\n    <tr>\n      <th>24779</th>\n      <td>3</td>\n      <td>0</td>\n      <td>1</td>\n      <td>2</td>\n      <td>2</td>\n      <td>you've gone and broke the wrong heart baby, an...</td>\n    </tr>\n    <tr>\n      <th>24780</th>\n      <td>3</td>\n      <td>0</td>\n      <td>3</td>\n      <td>0</td>\n      <td>1</td>\n      <td>young buck wanna eat!!.. dat nigguh like I ain...</td>\n    </tr>\n    <tr>\n      <th>24781</th>\n      <td>6</td>\n      <td>0</td>\n      <td>6</td>\n      <td>0</td>\n      <td>1</td>\n      <td>youu got wild bitches tellin you lies</td>\n    </tr>\n    <tr>\n      <th>24782</th>\n      <td>3</td>\n      <td>0</td>\n      <td>0</td>\n      <td>3</td>\n      <td>2</td>\n      <td>~~Ruffled | Ntac Eileen Dahlia - Beautiful col...</td>\n    </tr>\n  </tbody>\n</table>\n<p>24783 rows × 6 columns</p>\n</div>"
     },
     "execution_count": 2,
     "metadata": {},
     "output_type": "execute_result"
    }
   ],
   "source": [
    "data = pd.read_csv(source_wsl)\n",
    "data"
   ],
   "metadata": {
    "collapsed": false,
    "ExecuteTime": {
     "end_time": "2023-12-22T13:48:30.867091400Z",
     "start_time": "2023-12-22T13:48:30.824596200Z"
    }
   },
   "id": "5cd15ac7151b347c"
  },
  {
   "cell_type": "code",
   "execution_count": 3,
   "outputs": [],
   "source": [
    "text_preprocess = {\n",
    "\t'replace emoji': [text.replace_emoji, null],\n",
    "\t'remove retweet symbol': [text.remove_retweet],\n",
    "\t'to lower': [str.lower, null],\n",
    "\t'remove punctuation': [(text.remove_pattern, text.PATTERN['punc']), null],  # ATTENTION: it will remove @ #\n",
    "\t'remove _': [(text.remove_pattern, r'_'), null],\n",
    "\t'tokenize': [nltk.tokenize.word_tokenize],\n",
    "\t'remove stopwords': [(text.remove_stopwords, text.STOP_WORDS + ['amp'])],\n",
    "}  # input original text\n",
    "\n",
    "pipelines = Pipeline.from_config(text_preprocess)"
   ],
   "metadata": {
    "collapsed": false,
    "ExecuteTime": {
     "end_time": "2023-12-22T13:48:30.867091400Z",
     "start_time": "2023-12-22T13:48:30.857502800Z"
    }
   },
   "id": "8946cf222c588135"
  },
  {
   "cell_type": "code",
   "execution_count": 4,
   "outputs": [],
   "source": [
    "def process(tweets: pd.Series, pipeline):\n",
    "\treturn pd.Series([pipeline(tweet) for tweet in tweets.to_numpy()])\n",
    "\t\t\n",
    "pool = ProcessPoolExecutor()\t\t\n",
    "tweets = data['tweet']\n",
    "futures = [pool.submit(process, tweets, pipeline) for pipeline in pipelines]\n",
    "processed_texts = [pd.Series(future.result()) for future in futures]\n",
    "# processed_texts = [future.result() for future in futures]\n",
    "pool.shutdown()"
   ],
   "metadata": {
    "collapsed": false,
    "ExecuteTime": {
     "end_time": "2023-12-22T13:50:09.921387300Z",
     "start_time": "2023-12-22T13:48:30.863078700Z"
    }
   },
   "id": "5aed6f3e6a471a1a"
  },
  {
   "cell_type": "code",
   "execution_count": 5,
   "outputs": [
    {
     "data": {
      "text/plain": "0        [mayasolovely, woman, complain, cleaning, hous...\n1        [mleew17, boy, dats, coldtyga, dwn, cuffin, 1s...\n2        [urkindofbrand, dawg, 80sbaby4life, fuck, bitc...\n3                          [cganderson, vivabased, tranny]\n4         [shenikaroberts, shit, hear, faker, bitch, told]\n                               ...                        \n24778    [yous, muthafin, lie, lifeasking, 20pearls, co...\n24779    [youve, broke, wrong, heart, baby, drove, redn...\n24780         [young, buck, wan, eat, nigguh, fuckin, dis]\n24781                  [youu, wild, bitches, tellin, lies]\n24782    [ruffled, ntac, eileen, dahlia, beautiful, col...\nLength: 24783, dtype: object"
     },
     "execution_count": 5,
     "metadata": {},
     "output_type": "execute_result"
    }
   ],
   "source": [
    "processed_texts[0]"
   ],
   "metadata": {
    "collapsed": false,
    "ExecuteTime": {
     "end_time": "2023-12-22T13:50:09.927804800Z",
     "start_time": "2023-12-22T13:50:09.925799300Z"
    }
   },
   "id": "c0e0eaa2879a2fcb"
  },
  {
   "cell_type": "code",
   "execution_count": 6,
   "outputs": [],
   "source": [
    "sentiment_scores = [texts.apply(token_to_sentiment) for texts in processed_texts]"
   ],
   "metadata": {
    "collapsed": false,
    "ExecuteTime": {
     "end_time": "2023-12-22T13:51:20.440374300Z",
     "start_time": "2023-12-22T13:50:09.969453900Z"
    }
   },
   "id": "c4638f02dabdac2b"
  },
  {
   "cell_type": "code",
   "execution_count": 7,
   "outputs": [
    {
     "data": {
      "text/plain": "         neg    neu    pos  compound\n0      0.333  0.667  0.000   -0.3612\n1      0.000  1.000  0.000    0.0000\n2      0.803  0.197  0.000   -0.9460\n3      0.000  1.000  0.000    0.0000\n4      0.649  0.351  0.000   -0.8126\n...      ...    ...    ...       ...\n24778  0.000  1.000  0.000    0.0000\n24779  0.624  0.376  0.000   -0.8074\n24780  0.000  1.000  0.000    0.0000\n24781  0.691  0.309  0.000   -0.7717\n24782  0.000  0.755  0.245    0.5994\n\n[24783 rows x 4 columns]",
      "text/html": "<div>\n<style scoped>\n    .dataframe tbody tr th:only-of-type {\n        vertical-align: middle;\n    }\n\n    .dataframe tbody tr th {\n        vertical-align: top;\n    }\n\n    .dataframe thead th {\n        text-align: right;\n    }\n</style>\n<table border=\"1\" class=\"dataframe\">\n  <thead>\n    <tr style=\"text-align: right;\">\n      <th></th>\n      <th>neg</th>\n      <th>neu</th>\n      <th>pos</th>\n      <th>compound</th>\n    </tr>\n  </thead>\n  <tbody>\n    <tr>\n      <th>0</th>\n      <td>0.333</td>\n      <td>0.667</td>\n      <td>0.000</td>\n      <td>-0.3612</td>\n    </tr>\n    <tr>\n      <th>1</th>\n      <td>0.000</td>\n      <td>1.000</td>\n      <td>0.000</td>\n      <td>0.0000</td>\n    </tr>\n    <tr>\n      <th>2</th>\n      <td>0.803</td>\n      <td>0.197</td>\n      <td>0.000</td>\n      <td>-0.9460</td>\n    </tr>\n    <tr>\n      <th>3</th>\n      <td>0.000</td>\n      <td>1.000</td>\n      <td>0.000</td>\n      <td>0.0000</td>\n    </tr>\n    <tr>\n      <th>4</th>\n      <td>0.649</td>\n      <td>0.351</td>\n      <td>0.000</td>\n      <td>-0.8126</td>\n    </tr>\n    <tr>\n      <th>...</th>\n      <td>...</td>\n      <td>...</td>\n      <td>...</td>\n      <td>...</td>\n    </tr>\n    <tr>\n      <th>24778</th>\n      <td>0.000</td>\n      <td>1.000</td>\n      <td>0.000</td>\n      <td>0.0000</td>\n    </tr>\n    <tr>\n      <th>24779</th>\n      <td>0.624</td>\n      <td>0.376</td>\n      <td>0.000</td>\n      <td>-0.8074</td>\n    </tr>\n    <tr>\n      <th>24780</th>\n      <td>0.000</td>\n      <td>1.000</td>\n      <td>0.000</td>\n      <td>0.0000</td>\n    </tr>\n    <tr>\n      <th>24781</th>\n      <td>0.691</td>\n      <td>0.309</td>\n      <td>0.000</td>\n      <td>-0.7717</td>\n    </tr>\n    <tr>\n      <th>24782</th>\n      <td>0.000</td>\n      <td>0.755</td>\n      <td>0.245</td>\n      <td>0.5994</td>\n    </tr>\n  </tbody>\n</table>\n<p>24783 rows × 4 columns</p>\n</div>"
     },
     "execution_count": 7,
     "metadata": {},
     "output_type": "execute_result"
    }
   ],
   "source": [
    "sentiment_scores[0]"
   ],
   "metadata": {
    "collapsed": false,
    "ExecuteTime": {
     "end_time": "2023-12-22T13:51:20.451877600Z",
     "start_time": "2023-12-22T13:51:20.448373700Z"
    }
   },
   "id": "39f88d8fff138b2f"
  },
  {
   "cell_type": "code",
   "execution_count": 8,
   "outputs": [
    {
     "data": {
      "text/plain": "0       -1\n1       -1\n2       -1\n3       -1\n4       -1\n        ..\n24778   -1\n24779   -1\n24780   -1\n24781   -1\n24782   -1\nName: class, Length: 24783, dtype: int64"
     },
     "execution_count": 8,
     "metadata": {},
     "output_type": "execute_result"
    }
   ],
   "source": [
    "polar = data['class'].map({2: -1, 1: -1, 0: 1})\n",
    "polar"
   ],
   "metadata": {
    "collapsed": false,
    "ExecuteTime": {
     "end_time": "2023-12-22T13:51:20.461882Z",
     "start_time": "2023-12-22T13:51:20.452882700Z"
    }
   },
   "id": "bc11d4e236362295"
  },
  {
   "cell_type": "code",
   "execution_count": 9,
   "outputs": [
    {
     "data": {
      "text/plain": "(0.21280450983894392, 0.21281042305799705)"
     },
     "execution_count": 9,
     "metadata": {},
     "output_type": "execute_result"
    }
   ],
   "source": [
    "kl_div(polar+2, sentiment_scores[0]['compound']+2).mean(), kl_div(polar+2, sentiment_scores[1]['compound']+2).mean()"
   ],
   "metadata": {
    "collapsed": false,
    "ExecuteTime": {
     "end_time": "2023-12-22T13:51:20.473040400Z",
     "start_time": "2023-12-22T13:51:20.462884Z"
    }
   },
   "id": "fee1c3c23b97e36b"
  },
  {
   "cell_type": "code",
   "execution_count": 10,
   "outputs": [
    {
     "data": {
      "text/plain": "[0.21280450983894392,\n 0.21281042305799705,\n 0.22391191622356282,\n 0.223917829442616,\n 0.21307810585133372,\n 0.21308130920014004,\n 0.22406287738049674,\n 0.22406608072930304,\n 0.21359422872102607,\n 0.2136001419400792,\n 0.22381425748667935,\n 0.2238201707057325,\n 0.21387002660736848,\n 0.21387322995617475,\n 0.22396976895457224,\n 0.22397297230337856]"
     },
     "execution_count": 10,
     "metadata": {},
     "output_type": "execute_result"
    }
   ],
   "source": [
    "kl = [kl_div(polar+2, sentiment_score['compound']+2).mean() for sentiment_score in sentiment_scores]\n",
    "kl"
   ],
   "metadata": {
    "collapsed": false,
    "ExecuteTime": {
     "end_time": "2023-12-22T13:51:20.489054600Z",
     "start_time": "2023-12-22T13:51:20.467041700Z"
    }
   },
   "id": "ad9e689478bf730a"
  },
  {
   "cell_type": "code",
   "execution_count": 11,
   "outputs": [
    {
     "data": {
      "text/plain": "<Figure size 640x480 with 1 Axes>",
      "image/png": "[encoded data removed]"
     },
     "metadata": {},
     "output_type": "display_data"
    }
   ],
   "source": [
    "title = \"KL Divergence of Different Preprocessing Strategies\"\n",
    "plt.title(title)\n",
    "plt.ylabel(\"kl div\")\n",
    "plt.xlabel(\"preprocessing strategies\")\n",
    "plt.xticks(ticks=range(len(kl)), labels=range(1, 1+len(kl)))\n",
    "plt.scatter(range(len(kl)), kl)\n",
    "plt.savefig(output + f'/img/{title}.svg')"
   ],
   "metadata": {
    "collapsed": false,
    "ExecuteTime": {
     "end_time": "2023-12-22T13:51:20.685173400Z",
     "start_time": "2023-12-22T13:51:20.482536200Z"
    }
   },
   "id": "f05a9781bcf383dd"
  },
  {
   "cell_type": "markdown",
   "source": [
    "# 结论\n",
    "\n",
    "使用全策略\n",
    "（要删除标点，但标点在该场景下的确携带丰富信息--单独抽取特征）\n",
    "（要替换emoji，emoji对于kl散度有一定的提升）"
   ],
   "metadata": {
    "collapsed": false
   },
   "id": "eca09011445600f2"
  },
  {
   "cell_type": "markdown",
   "source": [],
   "metadata": {
    "collapsed": false
   },
   "id": "dee22e54eb66b432"
  }
 ],
 "metadata": {
  "kernelspec": {
   "display_name": "Python 3",
   "language": "python",
   "name": "python3"
  },
  "language_info": {
   "codemirror_mode": {
    "name": "ipython",
    "version": 2
   },
   "file_extension": ".py",
   "mimetype": "text/x-python",
   "name": "python",
   "nbconvert_exporter": "python",
   "pygments_lexer": "ipython2",
   "version": "2.7.6"
  }
 },
 "nbformat": 4,
 "nbformat_minor": 5
}
