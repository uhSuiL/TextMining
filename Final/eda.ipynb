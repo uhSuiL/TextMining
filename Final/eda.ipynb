{
 "cells": [
  {
   "cell_type": "code",
   "execution_count": 8,
   "id": "initial_id",
   "metadata": {
    "collapsed": true,
    "ExecuteTime": {
     "end_time": "2023-12-19T06:06:25.799322200Z",
     "start_time": "2023-12-19T06:06:18.357780700Z"
    }
   },
   "outputs": [],
   "source": [
    "import pandas as pd\n",
    "import nltk\n",
    "from data import source\n",
    "from util import stat\n",
    "\n",
    "# TODO: 画整个数据集情感得分的分布; 整个数据集的未处理词频统计+词云；整个数据集处理后的词频统计+词云"
   ]
  },
  {
   "cell_type": "code",
   "execution_count": 2,
   "outputs": [
    {
     "data": {
      "text/plain": "       count  hate_speech_count  offensive_language_count  neither_count  \\\n0          3                  0                         0              3   \n1          3                  0                         3              0   \n2          3                  0                         3              0   \n3          3                  0                         2              1   \n4          6                  0                         6              0   \n...      ...                ...                       ...            ...   \n24778      3                  0                         2              1   \n24779      3                  0                         1              2   \n24780      3                  0                         3              0   \n24781      6                  0                         6              0   \n24782      3                  0                         0              3   \n\n       class                                              tweet  \n0          2  !!! RT @mayasolovely: As a woman you shouldn't...  \n1          1  !!!!! RT @mleew17: boy dats cold...tyga dwn ba...  \n2          1  !!!!!!! RT @UrKindOfBrand Dawg!!!! RT @80sbaby...  \n3          1  !!!!!!!!! RT @C_G_Anderson: @viva_based she lo...  \n4          1  !!!!!!!!!!!!! RT @ShenikaRoberts: The shit you...  \n...      ...                                                ...  \n24778      1  you's a muthaf***in lie &#8220;@LifeAsKing: @2...  \n24779      2  you've gone and broke the wrong heart baby, an...  \n24780      1  young buck wanna eat!!.. dat nigguh like I ain...  \n24781      1              youu got wild bitches tellin you lies  \n24782      2  ~~Ruffled | Ntac Eileen Dahlia - Beautiful col...  \n\n[24783 rows x 6 columns]",
      "text/html": "<div>\n<style scoped>\n    .dataframe tbody tr th:only-of-type {\n        vertical-align: middle;\n    }\n\n    .dataframe tbody tr th {\n        vertical-align: top;\n    }\n\n    .dataframe thead th {\n        text-align: right;\n    }\n</style>\n<table border=\"1\" class=\"dataframe\">\n  <thead>\n    <tr style=\"text-align: right;\">\n      <th></th>\n      <th>count</th>\n      <th>hate_speech_count</th>\n      <th>offensive_language_count</th>\n      <th>neither_count</th>\n      <th>class</th>\n      <th>tweet</th>\n    </tr>\n  </thead>\n  <tbody>\n    <tr>\n      <th>0</th>\n      <td>3</td>\n      <td>0</td>\n      <td>0</td>\n      <td>3</td>\n      <td>2</td>\n      <td>!!! RT @mayasolovely: As a woman you shouldn't...</td>\n    </tr>\n    <tr>\n      <th>1</th>\n      <td>3</td>\n      <td>0</td>\n      <td>3</td>\n      <td>0</td>\n      <td>1</td>\n      <td>!!!!! RT @mleew17: boy dats cold...tyga dwn ba...</td>\n    </tr>\n    <tr>\n      <th>2</th>\n      <td>3</td>\n      <td>0</td>\n      <td>3</td>\n      <td>0</td>\n      <td>1</td>\n      <td>!!!!!!! RT @UrKindOfBrand Dawg!!!! RT @80sbaby...</td>\n    </tr>\n    <tr>\n      <th>3</th>\n      <td>3</td>\n      <td>0</td>\n      <td>2</td>\n      <td>1</td>\n      <td>1</td>\n      <td>!!!!!!!!! RT @C_G_Anderson: @viva_based she lo...</td>\n    </tr>\n    <tr>\n      <th>4</th>\n      <td>6</td>\n      <td>0</td>\n      <td>6</td>\n      <td>0</td>\n      <td>1</td>\n      <td>!!!!!!!!!!!!! RT @ShenikaRoberts: The shit you...</td>\n    </tr>\n    <tr>\n      <th>...</th>\n      <td>...</td>\n      <td>...</td>\n      <td>...</td>\n      <td>...</td>\n      <td>...</td>\n      <td>...</td>\n    </tr>\n    <tr>\n      <th>24778</th>\n      <td>3</td>\n      <td>0</td>\n      <td>2</td>\n      <td>1</td>\n      <td>1</td>\n      <td>you's a muthaf***in lie &amp;#8220;@LifeAsKing: @2...</td>\n    </tr>\n    <tr>\n      <th>24779</th>\n      <td>3</td>\n      <td>0</td>\n      <td>1</td>\n      <td>2</td>\n      <td>2</td>\n      <td>you've gone and broke the wrong heart baby, an...</td>\n    </tr>\n    <tr>\n      <th>24780</th>\n      <td>3</td>\n      <td>0</td>\n      <td>3</td>\n      <td>0</td>\n      <td>1</td>\n      <td>young buck wanna eat!!.. dat nigguh like I ain...</td>\n    </tr>\n    <tr>\n      <th>24781</th>\n      <td>6</td>\n      <td>0</td>\n      <td>6</td>\n      <td>0</td>\n      <td>1</td>\n      <td>youu got wild bitches tellin you lies</td>\n    </tr>\n    <tr>\n      <th>24782</th>\n      <td>3</td>\n      <td>0</td>\n      <td>0</td>\n      <td>3</td>\n      <td>2</td>\n      <td>~~Ruffled | Ntac Eileen Dahlia - Beautiful col...</td>\n    </tr>\n  </tbody>\n</table>\n<p>24783 rows × 6 columns</p>\n</div>"
     },
     "execution_count": 2,
     "metadata": {},
     "output_type": "execute_result"
    }
   ],
   "source": [
    "data = pd.read_csv(source)\n",
    "data"
   ],
   "metadata": {
    "collapsed": false,
    "ExecuteTime": {
     "end_time": "2023-12-19T05:44:18.397865700Z",
     "start_time": "2023-12-19T05:44:18.276535700Z"
    }
   },
   "id": "dd0b16f354c8e53"
  },
  {
   "cell_type": "code",
   "execution_count": 3,
   "outputs": [
    {
     "data": {
      "text/plain": "class\n1    19190\n2     4163\n0     1430\nName: count, dtype: int64"
     },
     "execution_count": 3,
     "metadata": {},
     "output_type": "execute_result"
    }
   ],
   "source": [
    "data['class'].value_counts()  # 0: hate, 1: offensive, 2: neither"
   ],
   "metadata": {
    "collapsed": false,
    "ExecuteTime": {
     "end_time": "2023-12-19T05:44:18.409412700Z",
     "start_time": "2023-12-19T05:44:18.389493100Z"
    }
   },
   "id": "88cbdc06af724b36"
  },
  {
   "cell_type": "code",
   "execution_count": 4,
   "outputs": [
    {
     "data": {
      "text/plain": "       count  hate_speech_count  offensive_language_count  neither_count  \\\n85         3                  2                         1              0   \n89         3                  3                         0              0   \n110        3                  3                         0              0   \n184        3                  3                         0              0   \n202        3                  2                         1              0   \n...      ...                ...                       ...            ...   \n24576      3                  2                         1              0   \n24685      3                  2                         1              0   \n24751      3                  2                         1              0   \n24776      3                  3                         0              0   \n24777      3                  2                         1              0   \n\n       class                                              tweet  \n85         0  \"@Blackman38Tide: @WhaleLookyHere @HowdyDowdy1...  \n89         0  \"@CB_Baby24: @white_thunduh alsarabsss\" hes a ...  \n110        0  \"@DevilGrimz: @VigxRArts you're fucking gay, b...  \n184        0  \"@MarkRoundtreeJr: LMFAOOOO I HATE BLACK PEOPL...  \n202        0  \"@NoChillPaz: \"At least I'm not a nigger\" http...  \n...      ...                                                ...  \n24576      0                this guy is the biggest faggot omfg  \n24685      0  which one of these names is more offensive kik...  \n24751      0         you a pussy ass nigga and I know it nigga.  \n24776      0                                 you're all niggers  \n24777      0  you're such a retard i hope you get type 2 dia...  \n\n[1430 rows x 6 columns]",
      "text/html": "<div>\n<style scoped>\n    .dataframe tbody tr th:only-of-type {\n        vertical-align: middle;\n    }\n\n    .dataframe tbody tr th {\n        vertical-align: top;\n    }\n\n    .dataframe thead th {\n        text-align: right;\n    }\n</style>\n<table border=\"1\" class=\"dataframe\">\n  <thead>\n    <tr style=\"text-align: right;\">\n      <th></th>\n      <th>count</th>\n      <th>hate_speech_count</th>\n      <th>offensive_language_count</th>\n      <th>neither_count</th>\n      <th>class</th>\n      <th>tweet</th>\n    </tr>\n  </thead>\n  <tbody>\n    <tr>\n      <th>85</th>\n      <td>3</td>\n      <td>2</td>\n      <td>1</td>\n      <td>0</td>\n      <td>0</td>\n      <td>\"@Blackman38Tide: @WhaleLookyHere @HowdyDowdy1...</td>\n    </tr>\n    <tr>\n      <th>89</th>\n      <td>3</td>\n      <td>3</td>\n      <td>0</td>\n      <td>0</td>\n      <td>0</td>\n      <td>\"@CB_Baby24: @white_thunduh alsarabsss\" hes a ...</td>\n    </tr>\n    <tr>\n      <th>110</th>\n      <td>3</td>\n      <td>3</td>\n      <td>0</td>\n      <td>0</td>\n      <td>0</td>\n      <td>\"@DevilGrimz: @VigxRArts you're fucking gay, b...</td>\n    </tr>\n    <tr>\n      <th>184</th>\n      <td>3</td>\n      <td>3</td>\n      <td>0</td>\n      <td>0</td>\n      <td>0</td>\n      <td>\"@MarkRoundtreeJr: LMFAOOOO I HATE BLACK PEOPL...</td>\n    </tr>\n    <tr>\n      <th>202</th>\n      <td>3</td>\n      <td>2</td>\n      <td>1</td>\n      <td>0</td>\n      <td>0</td>\n      <td>\"@NoChillPaz: \"At least I'm not a nigger\" http...</td>\n    </tr>\n    <tr>\n      <th>...</th>\n      <td>...</td>\n      <td>...</td>\n      <td>...</td>\n      <td>...</td>\n      <td>...</td>\n      <td>...</td>\n    </tr>\n    <tr>\n      <th>24576</th>\n      <td>3</td>\n      <td>2</td>\n      <td>1</td>\n      <td>0</td>\n      <td>0</td>\n      <td>this guy is the biggest faggot omfg</td>\n    </tr>\n    <tr>\n      <th>24685</th>\n      <td>3</td>\n      <td>2</td>\n      <td>1</td>\n      <td>0</td>\n      <td>0</td>\n      <td>which one of these names is more offensive kik...</td>\n    </tr>\n    <tr>\n      <th>24751</th>\n      <td>3</td>\n      <td>2</td>\n      <td>1</td>\n      <td>0</td>\n      <td>0</td>\n      <td>you a pussy ass nigga and I know it nigga.</td>\n    </tr>\n    <tr>\n      <th>24776</th>\n      <td>3</td>\n      <td>3</td>\n      <td>0</td>\n      <td>0</td>\n      <td>0</td>\n      <td>you're all niggers</td>\n    </tr>\n    <tr>\n      <th>24777</th>\n      <td>3</td>\n      <td>2</td>\n      <td>1</td>\n      <td>0</td>\n      <td>0</td>\n      <td>you're such a retard i hope you get type 2 dia...</td>\n    </tr>\n  </tbody>\n</table>\n<p>1430 rows × 6 columns</p>\n</div>"
     },
     "execution_count": 4,
     "metadata": {},
     "output_type": "execute_result"
    }
   ],
   "source": [
    "data[data['class'] == 0]"
   ],
   "metadata": {
    "collapsed": false,
    "ExecuteTime": {
     "end_time": "2023-12-19T05:44:18.508848200Z",
     "start_time": "2023-12-19T05:44:18.410426300Z"
    }
   },
   "id": "127ffc70b1e00ad1"
  },
  {
   "cell_type": "code",
   "execution_count": 5,
   "outputs": [
    {
     "data": {
      "text/plain": "       count  hate_speech_count  offensive_language_count  neither_count  \\\n0          3                  0                         0              3   \n1          3                  0                         3              0   \n2          3                  0                         3              0   \n3          3                  0                         2              1   \n4          6                  0                         6              0   \n...      ...                ...                       ...            ...   \n24778      3                  0                         2              1   \n24779      3                  0                         1              2   \n24780      3                  0                         3              0   \n24781      6                  0                         6              0   \n24782      3                  0                         0              3   \n\n       class                                              tweet  num_at  \\\n0          2  !!! RT @mayasolovely: As a woman you shouldn't...       1   \n1          1  !!!!! RT @mleew17: boy dats cold...tyga dwn ba...       1   \n2          1  !!!!!!! RT @UrKindOfBrand Dawg!!!! RT @80sbaby...       2   \n3          1  !!!!!!!!! RT @C_G_Anderson: @viva_based she lo...       2   \n4          1  !!!!!!!!!!!!! RT @ShenikaRoberts: The shit you...       1   \n...      ...                                                ...     ...   \n24778      1  you's a muthaf***in lie &#8220;@LifeAsKing: @2...       3   \n24779      2  you've gone and broke the wrong heart baby, an...       0   \n24780      1  young buck wanna eat!!.. dat nigguh like I ain...       0   \n24781      1              youu got wild bitches tellin you lies       0   \n24782      2  ~~Ruffled | Ntac Eileen Dahlia - Beautiful col...       0   \n\n       num_url  num_hashtag  num_exclamation  num_uppercase_word  \\\n0            0            0                3                   1   \n1            0            0                7                   1   \n2            0            0               11                   2   \n3            0            0                9                   1   \n4            0            1               13                   1   \n...        ...          ...              ...                 ...   \n24778        0            3                1                   1   \n24779        0            0                0                   0   \n24780        0            0                2                   1   \n24781        0            0                0                   0   \n24782        1            0                0                   1   \n\n       num_lowercase_word  num_emoji  \n0                      23          0  \n1                      13          0  \n2                      13          0  \n3                       5          0  \n4                      21          0  \n...                   ...        ...  \n24778                  13          0  \n24779                  14          0  \n24780                  12          0  \n24781                   7          0  \n24782                  11          0  \n\n[24783 rows x 13 columns]",
      "text/html": "<div>\n<style scoped>\n    .dataframe tbody tr th:only-of-type {\n        vertical-align: middle;\n    }\n\n    .dataframe tbody tr th {\n        vertical-align: top;\n    }\n\n    .dataframe thead th {\n        text-align: right;\n    }\n</style>\n<table border=\"1\" class=\"dataframe\">\n  <thead>\n    <tr style=\"text-align: right;\">\n      <th></th>\n      <th>count</th>\n      <th>hate_speech_count</th>\n      <th>offensive_language_count</th>\n      <th>neither_count</th>\n      <th>class</th>\n      <th>tweet</th>\n      <th>num_at</th>\n      <th>num_url</th>\n      <th>num_hashtag</th>\n      <th>num_exclamation</th>\n      <th>num_uppercase_word</th>\n      <th>num_lowercase_word</th>\n      <th>num_emoji</th>\n    </tr>\n  </thead>\n  <tbody>\n    <tr>\n      <th>0</th>\n      <td>3</td>\n      <td>0</td>\n      <td>0</td>\n      <td>3</td>\n      <td>2</td>\n      <td>!!! RT @mayasolovely: As a woman you shouldn't...</td>\n      <td>1</td>\n      <td>0</td>\n      <td>0</td>\n      <td>3</td>\n      <td>1</td>\n      <td>23</td>\n      <td>0</td>\n    </tr>\n    <tr>\n      <th>1</th>\n      <td>3</td>\n      <td>0</td>\n      <td>3</td>\n      <td>0</td>\n      <td>1</td>\n      <td>!!!!! RT @mleew17: boy dats cold...tyga dwn ba...</td>\n      <td>1</td>\n      <td>0</td>\n      <td>0</td>\n      <td>7</td>\n      <td>1</td>\n      <td>13</td>\n      <td>0</td>\n    </tr>\n    <tr>\n      <th>2</th>\n      <td>3</td>\n      <td>0</td>\n      <td>3</td>\n      <td>0</td>\n      <td>1</td>\n      <td>!!!!!!! RT @UrKindOfBrand Dawg!!!! RT @80sbaby...</td>\n      <td>2</td>\n      <td>0</td>\n      <td>0</td>\n      <td>11</td>\n      <td>2</td>\n      <td>13</td>\n      <td>0</td>\n    </tr>\n    <tr>\n      <th>3</th>\n      <td>3</td>\n      <td>0</td>\n      <td>2</td>\n      <td>1</td>\n      <td>1</td>\n      <td>!!!!!!!!! RT @C_G_Anderson: @viva_based she lo...</td>\n      <td>2</td>\n      <td>0</td>\n      <td>0</td>\n      <td>9</td>\n      <td>1</td>\n      <td>5</td>\n      <td>0</td>\n    </tr>\n    <tr>\n      <th>4</th>\n      <td>6</td>\n      <td>0</td>\n      <td>6</td>\n      <td>0</td>\n      <td>1</td>\n      <td>!!!!!!!!!!!!! RT @ShenikaRoberts: The shit you...</td>\n      <td>1</td>\n      <td>0</td>\n      <td>1</td>\n      <td>13</td>\n      <td>1</td>\n      <td>21</td>\n      <td>0</td>\n    </tr>\n    <tr>\n      <th>...</th>\n      <td>...</td>\n      <td>...</td>\n      <td>...</td>\n      <td>...</td>\n      <td>...</td>\n      <td>...</td>\n      <td>...</td>\n      <td>...</td>\n      <td>...</td>\n      <td>...</td>\n      <td>...</td>\n      <td>...</td>\n      <td>...</td>\n    </tr>\n    <tr>\n      <th>24778</th>\n      <td>3</td>\n      <td>0</td>\n      <td>2</td>\n      <td>1</td>\n      <td>1</td>\n      <td>you's a muthaf***in lie &amp;#8220;@LifeAsKing: @2...</td>\n      <td>3</td>\n      <td>0</td>\n      <td>3</td>\n      <td>1</td>\n      <td>1</td>\n      <td>13</td>\n      <td>0</td>\n    </tr>\n    <tr>\n      <th>24779</th>\n      <td>3</td>\n      <td>0</td>\n      <td>1</td>\n      <td>2</td>\n      <td>2</td>\n      <td>you've gone and broke the wrong heart baby, an...</td>\n      <td>0</td>\n      <td>0</td>\n      <td>0</td>\n      <td>0</td>\n      <td>0</td>\n      <td>14</td>\n      <td>0</td>\n    </tr>\n    <tr>\n      <th>24780</th>\n      <td>3</td>\n      <td>0</td>\n      <td>3</td>\n      <td>0</td>\n      <td>1</td>\n      <td>young buck wanna eat!!.. dat nigguh like I ain...</td>\n      <td>0</td>\n      <td>0</td>\n      <td>0</td>\n      <td>2</td>\n      <td>1</td>\n      <td>12</td>\n      <td>0</td>\n    </tr>\n    <tr>\n      <th>24781</th>\n      <td>6</td>\n      <td>0</td>\n      <td>6</td>\n      <td>0</td>\n      <td>1</td>\n      <td>youu got wild bitches tellin you lies</td>\n      <td>0</td>\n      <td>0</td>\n      <td>0</td>\n      <td>0</td>\n      <td>0</td>\n      <td>7</td>\n      <td>0</td>\n    </tr>\n    <tr>\n      <th>24782</th>\n      <td>3</td>\n      <td>0</td>\n      <td>0</td>\n      <td>3</td>\n      <td>2</td>\n      <td>~~Ruffled | Ntac Eileen Dahlia - Beautiful col...</td>\n      <td>0</td>\n      <td>1</td>\n      <td>0</td>\n      <td>0</td>\n      <td>1</td>\n      <td>11</td>\n      <td>0</td>\n    </tr>\n  </tbody>\n</table>\n<p>24783 rows × 13 columns</p>\n</div>"
     },
     "execution_count": 5,
     "metadata": {},
     "output_type": "execute_result"
    }
   ],
   "source": [
    "data['num_at'] = data['tweet'].apply(stat.count_at)\n",
    "data['num_url'] = data['tweet'].apply(stat.count_url)\n",
    "data['num_hashtag'] = data['tweet'].apply(stat.count_hashtag)\n",
    "data['num_exclamation'] = data['tweet'].apply(stat.count_pattern, args=('!',))\n",
    "data['num_uppercase_word'] = data['tweet'].apply(stat.count_uppercase_word)\n",
    "data['num_lowercase_word'] = data['tweet'].apply(stat.count_lowercase_word)\n",
    "data['num_emoji'] = data['tweet'].apply(stat.count_emoji)\n",
    "data"
   ],
   "metadata": {
    "collapsed": false,
    "ExecuteTime": {
     "end_time": "2023-12-19T05:44:18.958758400Z",
     "start_time": "2023-12-19T05:44:18.437613800Z"
    }
   },
   "id": "a057261308ad2922"
  },
  {
   "cell_type": "code",
   "execution_count": 6,
   "outputs": [
    {
     "data": {
      "text/plain": "num_at\n0     10594\n1     10585\n2      2575\n3       746\n4       182\n5        47\n6        39\n7         8\n9         3\n8         3\n10        1\nName: count, dtype: int64"
     },
     "execution_count": 6,
     "metadata": {},
     "output_type": "execute_result"
    }
   ],
   "source": [
    "data['num_at'].value_counts()"
   ],
   "metadata": {
    "collapsed": false,
    "ExecuteTime": {
     "end_time": "2023-12-19T05:47:08.091926600Z",
     "start_time": "2023-12-19T05:47:08.048591100Z"
    }
   },
   "id": "91d81b6d36e76f79"
  },
  {
   "cell_type": "code",
   "execution_count": 7,
   "outputs": [
    {
     "data": {
      "text/plain": "num_exclamation\n0     22375\n1      1514\n2       430\n3       257\n4        90\n5        43\n6        27\n7        16\n9         7\n8         6\n11        5\n10        3\n12        3\n13        2\n19        1\n24        1\n25        1\n14        1\n35        1\nName: count, dtype: int64"
     },
     "execution_count": 7,
     "metadata": {},
     "output_type": "execute_result"
    }
   ],
   "source": [
    "data['num_exclamation'].value_counts()"
   ],
   "metadata": {
    "collapsed": false,
    "ExecuteTime": {
     "end_time": "2023-12-19T05:47:38.205869700Z",
     "start_time": "2023-12-19T05:47:38.152965500Z"
    }
   },
   "id": "b90fa8e63d94843f"
  },
  {
   "cell_type": "code",
   "execution_count": 5,
   "outputs": [],
   "source": [
    "import nltk\n",
    "nltk.tokenize.word_tokenize(\"ad sfa asdfad\")"
   ],
   "metadata": {
    "collapsed": false
   },
   "id": "18ec7d42053d06d2"
  },
  {
   "cell_type": "code",
   "execution_count": 11,
   "outputs": [
    {
     "data": {
      "text/plain": "False"
     },
     "execution_count": 11,
     "metadata": {},
     "output_type": "execute_result"
    }
   ],
   "source": [
    "from nltk.corpus import stopwords\n",
    "'!' in stopwords.words()"
   ],
   "metadata": {
    "collapsed": false,
    "ExecuteTime": {
     "end_time": "2023-12-19T06:30:36.322207100Z",
     "start_time": "2023-12-19T06:30:36.303773700Z"
    }
   },
   "id": "56883d6ad84c145a"
  }
 ],
 "metadata": {
  "kernelspec": {
   "display_name": "Python 3",
   "language": "python",
   "name": "python3"
  },
  "language_info": {
   "codemirror_mode": {
    "name": "ipython",
    "version": 2
   },
   "file_extension": ".py",
   "mimetype": "text/x-python",
   "name": "python",
   "nbconvert_exporter": "python",
   "pygments_lexer": "ipython2",
   "version": "2.7.6"
  }
 },
 "nbformat": 4,
 "nbformat_minor": 5
}
