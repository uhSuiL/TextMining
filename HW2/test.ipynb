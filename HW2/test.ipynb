{
 "cells": [
  {
   "cell_type": "code",
   "execution_count": 1,
   "id": "initial_id",
   "metadata": {
    "collapsed": true,
    "ExecuteTime": {
     "end_time": "2023-10-22T02:19:41.106428700Z",
     "start_time": "2023-10-22T02:19:40.939812600Z"
    }
   },
   "outputs": [],
   "source": [
    "with open(\"./spam email data/ham_data.txt\" ,'r', encoding='utf') as f:\n",
    "    ham_data = f.readlines()\n",
    "    \n",
    "with open(\"./spam email data/spam_data.txt\", 'r', encoding='utf') as f:\n",
    "    spam_data = f.readlines()\n",
    "    \n",
    "# ham_data, spam_data, len(ham_data), len(ham_data)"
   ]
  },
  {
   "cell_type": "code",
   "execution_count": 2,
   "outputs": [],
   "source": [
    "LABEL_HAM = 0\n",
    "LABEL_SPAM = 1\n",
    "\n",
    "ham_labels = [LABEL_HAM] * len(ham_data)\n",
    "spam_labels = [LABEL_SPAM] * len(spam_data)"
   ],
   "metadata": {
    "collapsed": false,
    "ExecuteTime": {
     "end_time": "2023-10-22T02:19:41.107430500Z",
     "start_time": "2023-10-22T02:19:41.031411300Z"
    }
   },
   "id": "3efb48c7ed2c7586"
  },
  {
   "cell_type": "markdown",
   "source": [
    "# Tokenize and Clean Text"
   ],
   "metadata": {
    "collapsed": false
   },
   "id": "3ca010d3cf489eb"
  },
  {
   "cell_type": "code",
   "execution_count": 3,
   "outputs": [
    {
     "name": "stderr",
     "output_type": "stream",
     "text": [
      "Building prefix dict from the default dictionary ...\n",
      "Loading model from cache C:\\Users\\LiuShu\\AppData\\Local\\Temp\\jieba.cache\n",
      "Loading model cost 2.862 seconds.\n",
      "Prefix dict has been built successfully.\n"
     ]
    }
   ],
   "source": [
    "from util import formalize_docs\n",
    "\n",
    "ham_len = len(ham_data)\n",
    "spam_len = len(spam_data)\n",
    "\n",
    "docs = ham_data + spam_data\n",
    "docs = formalize_docs(docs)\n",
    "\n",
    "labels = ham_labels + spam_labels"
   ],
   "metadata": {
    "collapsed": false,
    "ExecuteTime": {
     "end_time": "2023-10-22T02:20:15.310073400Z",
     "start_time": "2023-10-22T02:19:41.050425900Z"
    }
   },
   "id": "f1324f2dc6e7d462"
  },
  {
   "cell_type": "markdown",
   "source": [
    "# Text2Vec"
   ],
   "metadata": {
    "collapsed": false
   },
   "id": "444e0834b4c35bf6"
  },
  {
   "cell_type": "code",
   "execution_count": 4,
   "outputs": [],
   "source": [
    "from sklearn.feature_extraction.text import CountVectorizer\n",
    "\n",
    "count_vectorizer = CountVectorizer()\n",
    "doc_features = count_vectorizer.fit_transform(docs)"
   ],
   "metadata": {
    "collapsed": false,
    "ExecuteTime": {
     "end_time": "2023-10-22T02:20:18.099335700Z",
     "start_time": "2023-10-22T02:20:15.307075600Z"
    }
   },
   "id": "21f4b8c811ebf091"
  },
  {
   "cell_type": "code",
   "execution_count": 5,
   "outputs": [],
   "source": [
    "from sklearn.feature_extraction.text import TfidfVectorizer\n",
    "\n",
    "tf_idf_vectorizer = TfidfVectorizer()\n",
    "docs_features_2 = tf_idf_vectorizer.fit_transform(docs)"
   ],
   "metadata": {
    "collapsed": false,
    "ExecuteTime": {
     "end_time": "2023-10-22T02:20:20.141819Z",
     "start_time": "2023-10-22T02:20:17.848334700Z"
    }
   },
   "id": "15d42826d7d182ba"
  },
  {
   "cell_type": "markdown",
   "source": [
    "# Select Features"
   ],
   "metadata": {
    "collapsed": false
   },
   "id": "dcb87ba4a8e00a63"
  },
  {
   "cell_type": "code",
   "execution_count": 6,
   "outputs": [],
   "source": [
    "from sklearn.feature_selection import SelectKBest, chi2, mutual_info_classif\n",
    "\n",
    "# k_best_selector = SelectKBest(chi2, k=20000)\n",
    "k_best_selector = SelectKBest(mutual_info_classif, k=20000)\n",
    "selected_features = k_best_selector.fit_transform(X=doc_features, y=labels)"
   ],
   "metadata": {
    "collapsed": false,
    "ExecuteTime": {
     "end_time": "2023-10-22T02:22:21.459573800Z",
     "start_time": "2023-10-22T02:20:20.098813200Z"
    }
   },
   "id": "d7e7a85ffa1aee22"
  },
  {
   "cell_type": "markdown",
   "source": [
    "# Split Dataset"
   ],
   "metadata": {
    "collapsed": false
   },
   "id": "94cb97eb314eecdd"
  },
  {
   "cell_type": "code",
   "execution_count": 7,
   "outputs": [],
   "source": [
    "from sklearn.model_selection import train_test_split\n",
    "\n",
    "x_train, x_test, y_train, y_test = train_test_split(selected_features, labels, test_size=0.3, random_state=0)"
   ],
   "metadata": {
    "collapsed": false,
    "ExecuteTime": {
     "end_time": "2023-10-22T02:22:21.475335800Z",
     "start_time": "2023-10-22T02:22:21.459573800Z"
    }
   },
   "id": "50fd9a439a4dad36"
  },
  {
   "cell_type": "markdown",
   "source": [
    "# Train and Evaluate Model"
   ],
   "metadata": {
    "collapsed": false
   },
   "id": "14c1c85b38cdfa0"
  },
  {
   "cell_type": "code",
   "execution_count": 8,
   "outputs": [
    {
     "name": "stdout",
     "output_type": "stream",
     "text": [
      "\n",
      "accuracy:  0.991\n",
      "precision:  0.986\n",
      "recall:  0.996\n"
     ]
    }
   ],
   "source": [
    "from sklearn import metrics\n",
    "from sklearn.naive_bayes import MultinomialNB\n",
    "from sklearn.linear_model import SGDClassifier\n",
    "\n",
    "\n",
    "# classifier = MultinomialNB()\n",
    "classifier = SGDClassifier()\n",
    "classifier.fit(x_train, y_train)\n",
    "\n",
    "y_predict = classifier.predict(x_test)\n",
    "\n",
    "accuracy = metrics.accuracy_score(y_test, y_predict)\n",
    "precision = metrics.precision_score(y_test, y_predict)\n",
    "recall = metrics.recall_score(y_test, y_predict)\n",
    "\n",
    "print(f\"\"\"\n",
    "accuracy: {accuracy: .3f}\n",
    "precision: {precision: .3f}\n",
    "recall: {recall: .3f}\n",
    "\"\"\")"
   ],
   "metadata": {
    "collapsed": false,
    "ExecuteTime": {
     "end_time": "2023-10-22T02:22:21.539655700Z",
     "start_time": "2023-10-22T02:22:21.475335800Z"
    }
   },
   "id": "d28bdc0e49d00dc9"
  }
 ],
 "metadata": {
  "kernelspec": {
   "display_name": "Python 3",
   "language": "python",
   "name": "python3"
  },
  "language_info": {
   "codemirror_mode": {
    "name": "ipython",
    "version": 2
   },
   "file_extension": ".py",
   "mimetype": "text/x-python",
   "name": "python",
   "nbconvert_exporter": "python",
   "pygments_lexer": "ipython2",
   "version": "2.7.6"
  }
 },
 "nbformat": 4,
 "nbformat_minor": 5
}
